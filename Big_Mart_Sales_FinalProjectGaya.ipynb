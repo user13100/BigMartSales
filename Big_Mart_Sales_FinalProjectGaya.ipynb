{
 "cells": [
  {
   "cell_type": "markdown",
   "id": "9d726732-9059-4aa6-bb12-2d3aead64058",
   "metadata": {},
   "source": [
    "### Big Mart Sales Prediction\n",
    "\n",
    "\n",
    "\n",
    "Sales Prediction for Big Mart Outlets\n",
    "The data scientists at BigMart have collected 2013 sales data for 1559 products across 10 stores in different cities. Also, certain attributes of each product and store have been defined. The aim is to build a predictive model and predict the sales of each product at a particular outlet.\n",
    "\n",
    "Using this model, BigMart will try to understand the properties of products and outlets which play a key role in increasing sales.\n",
    "\n",
    "Please note that the data may have missing values as some stores might not report all the data due to technical glitches. Hence, it will be required to treat them accordingly. \n",
    "\n",
    "\n",
    "\n",
    "Data Dictionary\n",
    "We have train (8523) and test (5681) data set, train data set has both input and output variable(s). You need to predict the sales for test data set.\n",
    "\n",
    "\n",
    "\n",
    "Train file: CSV containing the item outlet information with sales value\n",
    "\n",
    "\n",
    "\n",
    "#### Problem Statement\n",
    "\n",
    "The data scientists at BigMart have collected 2013 sales data for 1559 products across 10 stores in different cities. Also, certain attributes of each product and store have been defined. The aim is to build a predictive model and find out the sales of each product at a particular store.\n",
    "\n",
    "\n",
    "\n",
    "#### About Dataset\n",
    "\n",
    "We have train and test data set. Train data set has both input and output variable. You need to predict the sales for test data set.\n",
    "\n",
    "Number of observations in Train set: 8523\n",
    "\n",
    "Number of observations in Test set: 5681\n",
    "\n",
    "\n",
    "#### Approach to the Problem\n",
    "\n",
    "\n",
    "\n",
    "Pre-process the data: impute the missing values, normalize the variables. etc.\n",
    "Define the architecture of your model\n",
    "Since it is a regression problem, make sure that you use the 'linear' activation function in the output layer\n",
    "Train your model\n",
    "Do the same pre-processing steps on test set as you did for the training set\n",
    "Generate predictions for the test set using the trained model\n",
    "Save the predictions in a csv file (to check the format, refer to the sample submission file provided on the problem page)\n",
    "Submit your predictions on the problem page and check your rank on the leaderboard."
   ]
  },
  {
   "cell_type": "code",
   "execution_count": null,
   "id": "68d2b2d7-08fb-4027-8abf-e8930b92b023",
   "metadata": {},
   "outputs": [],
   "source": [
    "# Importing libraries\n",
    "\n",
    "import pandas as pd\n",
    "import numpy as np\n",
    "import matplotlib.pyplot as plt\n",
    "import seaborn as sns\n",
    "\n",
    "import warnings\n",
    "warnings.filterwarnings('ignore')"
   ]
  },
  {
   "cell_type": "code",
   "execution_count": null,
   "id": "593f47aa",
   "metadata": {},
   "outputs": [],
   "source": [
    "#Let's read the dataset- train and test,assign it to a dataframe(import), and check no of records\n",
    "\n",
    "train_df = pd.read_csv('train_XnW6LSF.csv')\n",
    "test_df = pd.read_csv('test_FewQE9B.csv')"
   ]
  },
  {
   "cell_type": "code",
   "execution_count": null,
   "id": "8f3dd3f8",
   "metadata": {},
   "outputs": [],
   "source": [
    "train_df.shape"
   ]
  },
  {
   "cell_type": "code",
   "execution_count": null,
   "id": "578732ac",
   "metadata": {},
   "outputs": [],
   "source": [
    "test_df.shape"
   ]
  },
  {
   "cell_type": "code",
   "execution_count": null,
   "id": "eb8fa3b5",
   "metadata": {},
   "outputs": [],
   "source": [
    "train_df.describe().transpose()"
   ]
  },
  {
   "cell_type": "code",
   "execution_count": null,
   "id": "a0d9d0bd",
   "metadata": {},
   "outputs": [],
   "source": [
    "# Identify the data types of columns/variables- no. of categorical and numerical variables\n",
    "\n",
    "train_df.dtypes"
   ]
  },
  {
   "cell_type": "code",
   "execution_count": null,
   "id": "1c9747a5",
   "metadata": {
    "scrolled": true
   },
   "outputs": [],
   "source": [
    "train_df.head(3)"
   ]
  },
  {
   "cell_type": "code",
   "execution_count": 23,
   "id": "9abbb54a",
   "metadata": {},
   "outputs": [
    {
     "data": {
      "text/plain": [
       "array(['Supermarket Type1', 'Supermarket Type2', 'Grocery Store',\n",
       "       'Supermarket Type3'], dtype=object)"
      ]
     },
     "execution_count": 23,
     "metadata": {},
     "output_type": "execute_result"
    }
   ],
   "source": [
    "train_df['Outlet_Type'].unique()"
   ]
  },
  {
   "cell_type": "markdown",
   "id": "a4479dee",
   "metadata": {},
   "source": [
    "#### Hypothesis Testing:\n",
    "\n",
    "- Does Items with higher Item_MRP increase the outlet sales?\n",
    "- "
   ]
  },
  {
   "cell_type": "markdown",
   "id": "020efab0",
   "metadata": {},
   "source": [
    "- Since we have the Item outlet sales and establishment year, we can calculate the Year-Over-Year sales.\n",
    "YoY sales = (Current Year's sales - Last year's sales)/Last year's sales\n",
    "\n",
    "- "
   ]
  },
  {
   "cell_type": "code",
   "execution_count": null,
   "id": "ebd5165a",
   "metadata": {},
   "outputs": [],
   "source": []
  }
 ],
 "metadata": {
  "kernelspec": {
   "display_name": "Python 3 (ipykernel)",
   "language": "python",
   "name": "python3"
  },
  "language_info": {
   "codemirror_mode": {
    "name": "ipython",
    "version": 3
   },
   "file_extension": ".py",
   "mimetype": "text/x-python",
   "name": "python",
   "nbconvert_exporter": "python",
   "pygments_lexer": "ipython3",
   "version": "3.9.7"
  }
 },
 "nbformat": 4,
 "nbformat_minor": 5
}
